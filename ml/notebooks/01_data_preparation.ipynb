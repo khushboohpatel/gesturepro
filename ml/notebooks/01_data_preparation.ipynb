{
    "cells": [
        {
            "cell_type": "markdown",
            "id": "480743e0",
            "metadata": {},
            "source": [
                "# Data Preparation for Sign Language Detection\n",
                "\n",
                "This notebook prepares the dataset for YOLO training."
            ]
        },
        {
            "cell_type": "code",
            "execution_count": null,
            "id": "356fa188",
            "metadata": {},
            "outputs": [],
            "source": [
                "import sys\n",
                "import os\n",
                "sys.path.append('../')\n",
                "\n",
                "from src.data.yolo_preprocessing import YOLODataProcessor"
            ]
        },
        {
            "cell_type": "code",
            "execution_count": null,
            "id": "8b55e5b1",
            "metadata": {},
            "outputs": [],
            "source": [
                "# Set up paths\n",
                "BASE_DIR = os.path.abspath('../')\n",
                "DATA_DIR = os.path.join(BASE_DIR, 'data', 'processed')\n",
                "ANNOTATIONS_DIR = os.path.join(DATA_DIR, 'Annotations')\n",
                "IMAGES_DIR = os.path.join(DATA_DIR, 'images')\n",
                "MODELS_DIR = os.path.join(BASE_DIR, 'data', 'models')\n",
                "YOLO_DIR = os.path.join(MODELS_DIR, 'yolo_dataset')\n",
                "\n",
                "# Create necessary directories\n",
                "os.makedirs(MODELS_DIR, exist_ok=True)\n",
                "os.makedirs(YOLO_DIR, exist_ok=True)\n",
                "\n",
                "print(f\"Annotations directory: {ANNOTATIONS_DIR}\")\n",
                "print(f\"Images directory: {IMAGES_DIR}\")\n",
                "print(f\"Models directory: {MODELS_DIR}\")"
            ]
        },
        {
            "cell_type": "code",
            "execution_count": null,
            "id": "abec4145",
            "metadata": {},
            "outputs": [],
            "source": [
                "# Initialize data processor\n",
                "processor = YOLODataProcessor(ANNOTATIONS_DIR, IMAGES_DIR)\n",
                "\n",
                "# Parse annotations\n",
                "df, all_classes = processor.parse_xml_annotations()\n",
                "\n",
                "print(f\"Dataset shape: {df.shape}\")\n",
                "print(f\"Classes found: {all_classes}\")\n",
                "print(f\"\\nClass distribution:\")\n",
                "print(df['class'].value_counts())"
            ]
        },
        {
            "cell_type": "code",
            "execution_count": null,
            "id": "84887d42",
            "metadata": {},
            "outputs": [],
            "source": [
                "# Create train/validation split\n",
                "train_df, val_df = processor.create_train_val_split(df, test_size=0.2)\n",
                "\n",
                "print(f\"Training set: {len(train_df)} annotations, {train_df['image_name'].nunique()} images\")\n",
                "print(f\"Validation set: {len(val_df)} annotations, {val_df['image_name'].nunique()} images\")"
            ]
        },
        {
            "cell_type": "code",
            "execution_count": null,
            "id": "3108c888",
            "metadata": {},
            "outputs": [],
            "source": [
                "# Prepare YOLO dataset\n",
                "class_mapping = processor.prepare_yolo_dataset(train_df, val_df, all_classes, YOLO_DIR)\n",
                "\n",
                "# Save class names for later use\n",
                "import json\n",
                "with open(os.path.join(MODELS_DIR, 'class_names.json'), 'w') as f:\n",
                "    json.dump(all_classes, f)\n",
                "\n",
                "print(f\"\\nYOLO dataset prepared in: {YOLO_DIR}\")\n",
                "print(f\"Class mapping: {class_mapping}\")\n",
                "print('Data preparation complete!')"
            ]
        }
    ],
    "metadata": {
        "kernelspec": {
            "display_name": "venv",
            "language": "python",
            "name": "python3"
        },
        "language_info": {
            "codemirror_mode": {
                "name": "ipython",
                "version": 3
            },
            "file_extension": ".py",
            "mimetype": "text/x-python",
            "name": "python",
            "nbconvert_exporter": "python",
            "pygments_lexer": "ipython3",
            "version": "3.12.8"
        }
    },
    "nbformat": 4,
    "nbformat_minor": 5
}
