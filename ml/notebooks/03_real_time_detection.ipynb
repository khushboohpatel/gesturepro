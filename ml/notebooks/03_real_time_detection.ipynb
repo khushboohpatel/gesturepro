{
    "cells": [
        {
            "cell_type": "markdown",
            "metadata": {},
            "source": [
                "# Real-Time Sign Language Detection\n",
                "\n",
                "This notebook implements real-time detection using the trained YOLO model."
            ]
        },
        {
            "cell_type": "code",
            "execution_count": null,
            "metadata": {},
            "outputs": [],
            "source": [
                "import sys\n",
                "import os\n",
                "sys.path.append('../')  # Add parent directory to path\n",
                "\n",
                "from src.models.yolo_detector import YOLOSignDetector\n",
                "import cv2\n",
                "import json"
            ]
        },
        {
            "cell_type": "code",
            "execution_count": null,
            "metadata": {},
            "outputs": [],
            "source": [
                "# Set up paths\n",
                "BASE_DIR = os.path.abspath('../')\n",
                "MODELS_DIR = os.path.join(BASE_DIR, 'data', 'models')\n",
                "MODEL_PATH = os.path.join(MODELS_DIR, 'sign_language_yolo', 'weights', 'best.pt')\n",
                "CLASS_NAMES_PATH = os.path.join(MODELS_DIR, 'class_names.json')\n",
                "\n",
                "# Initialize detector\n",
                "detector = YOLOSignDetector()\n",
                "detector.load_model(MODEL_PATH, CLASS_NAMES_PATH)\n",
                "\n",
                "print(f\"Model loaded from: {MODEL_PATH}\")\n",
                "print(f\"Classes: {detector.class_names}\")"
            ]
        },
        {
            "cell_type": "code",
            "execution_count": null,
            "metadata": {},
            "outputs": [],
            "source": [
                "# Real-time detection function\n",
                "def real_time_detection(detector, confidence_threshold=0.5):\n",
                "    \"\"\"Run real-time sign language detection\"\"\"\n",
                "    \n",
                "    cap = cv2.VideoCapture(0)\n",
                "    \n",
                "    if not cap.isOpened():\n",
                "        print(\"Error: Could not open camera\")\n",
                "        return\n",
                "    \n",
                "    print(\"Starting real-time detection. Press 'q' to quit.\")\n",
                "    \n",
                "    try:\n",
                "        while True:\n",
                "            ret, frame = cap.read()\n",
                "            if not ret:\n",
                "                break\n",
                "            \n",
                "            # Run inference\n",
                "            results = detector.model(frame)\n",
                "            \n",
                "            # Draw predictions\n",
                "            for result in results:\n",
                "                boxes = result.boxes\n",
                "                if boxes is not None:\n",
                "                    for box in boxes:\n",
                "                        x1, y1, x2, y2 = box.xyxy[0].cpu().numpy().astype(int)\n",
                "                        conf = box.conf[0].cpu().numpy()\n",
                "                        cls = int(box.cls[0].cpu().numpy())\n",
                "                        \n",
                "                        if conf > confidence_threshold:\n",
                "                            cv2.rectangle(frame, (x1, y1), (x2, y2), (0, 255, 0), 2)\n",
                "                            label = f\"{detector.class_names[cls]}: {conf:.2f}\"\n",
                "                            cv2.putText(frame, label, (x1, y1-10), \n",
                "                                      cv2.FONT_HERSHEY_SIMPLEX, 0.7, (0, 255, 0), 2)\n",
                "            \n",
                "            # Display frame\n",
                "            cv2.imshow('Sign Language Detection', frame)\n",
                "            \n",
                "            if cv2.waitKey(1) & 0xFF == ord('q'):\n",
                "                break\n",
                "    \n",
                "    finally:\n",
                "        cap.release()\n",
                "        cv2.destroyAllWindows()\n",
                "\n",
                "# Run real-time detection\n",
                "# real_time_detection(detector)  # Uncomment to run"
            ]
        }
    ]
}