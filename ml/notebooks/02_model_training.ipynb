{
    "cells": [
        {
            "cell_type": "markdown",
            "id": "38bd942c",
            "metadata": {},
            "source": [
                "# Model Training for Sign Language Detection\n",
                "\n",
                "This notebook trains the YOLO model."
            ]
        },
        {
            "cell_type": "code",
            "execution_count": null,
            "id": "ee025615",
            "metadata": {},
            "outputs": [],
            "source": [
                "import sys\n",
                "import os\n",
                "sys.path.append('../')\n",
                "\n",
                "from src.models.yolo_detector import YOLOSignDetector"
            ]
        },
        {
            "cell_type": "code",
            "execution_count": null,
            "id": "657d79a6",
            "metadata": {},
            "outputs": [],
            "source": [
                "# Set up paths\n",
                "BASE_DIR = os.path.abspath('../')\n",
                "MODELS_DIR = os.path.join(BASE_DIR, 'data', 'models')\n",
                "YOLO_DIR = os.path.join(MODELS_DIR, 'yolo_dataset')\n",
                "DATA_YAML = os.path.join(YOLO_DIR, 'data.yaml')\n",
                "CLASS_NAMES_PATH = os.path.join(MODELS_DIR, 'class_names.json')\n",
                "\n",
                "print(f\"Data YAML: {DATA_YAML}\")\n",
                "print(f\"Data YAML exists: {os.path.exists(DATA_YAML)}\")"
            ]
        },
        {
            "cell_type": "code",
            "execution_count": null,
            "id": "e2cb03a7",
            "metadata": {},
            "outputs": [],
            "source": [
                "# Initialize and train model\n",
                "detector = YOLOSignDetector()\n",
                "\n",
                "# Train the model\n",
                "print(\"Starting YOLO training...\")\n",
                "results = detector.train(\n",
                "    data_yaml_path=DATA_YAML,\n",
                "    epochs=50,\n",
                "    img_size=640,\n",
                "    project=MODELS_DIR,\n",
                "    name='sign_language_yolo'\n",
                ")\n",
                "\n",
                "print(\"Training completed!\")"
            ]
        },
        {
            "cell_type": "code",
            "execution_count": null,
            "id": "4004f98b",
            "metadata": {},
            "outputs": [],
            "source": [
                "# Load trained model and class names\n",
                "best_model_path = os.path.join(MODELS_DIR, 'sign_language_yolo', 'weights', 'best.pt')\n",
                "detector.load_model(best_model_path, CLASS_NAMES_PATH)\n",
                "\n",
                "# Evaluate model\n",
                "metrics = detector.evaluate(DATA_YAML)\n",
                "print(f\"Evaluation metrics: {metrics}\")\n",
                "\n",
                "# Save model\n",
                "detector.save_model(MODELS_DIR)\n",
                "print('Model training and evaluation complete!')"
            ]
        },
        {
            "cell_type": "code",
            "execution_count": null,
            "id": "8e3d5fb5",
            "metadata": {},
            "outputs": [
                {
                    "name": "stdout",
                    "output_type": "stream",
                    "text": [
                        "✅ Model copied successfully!\n",
                        "   Source: /Users/rishit.epari/Documents/Drexel/Quarter 3/CS 591 - Capstone 1/gesturepro/ml/data/models/sign_language_yolo/weights/best.pt\n",
                        "   Destination: /Users/rishit.epari/Documents/Drexel/Quarter 3/CS 591 - Capstone 1/gesturepro/ml/saved_models/yolo/yolo_best.pt\n",
                        "   Model size: 5.95 MB\n",
                        "✅ Class names copied to: /Users/rishit.epari/Documents/Drexel/Quarter 3/CS 591 - Capstone 1/gesturepro/ml/saved_models/yolo/class_names.json\n",
                        "\n",
                        "📁 Saved models directory: /Users/rishit.epari/Documents/Drexel/Quarter 3/CS 591 - Capstone 1/gesturepro/ml/saved_models/yolo\n"
                    ]
                }
            ],
            "source": [
                "# Copy model to saved_models directory\n",
                "import shutil\n",
                "\n",
                "# Create saved_models directory structure\n",
                "SAVED_MODELS_DIR = os.path.join(BASE_DIR, 'saved_models', 'yolo')\n",
                "os.makedirs(SAVED_MODELS_DIR, exist_ok=True)\n",
                "\n",
                "# Source and destination paths\n",
                "source_model_path = os.path.join(MODELS_DIR, 'sign_language_yolo', 'weights', 'best.pt')\n",
                "destination_model_path = os.path.join(SAVED_MODELS_DIR, 'yolo_best.pt')\n",
                "\n",
                "# Copy the model\n",
                "if os.path.exists(source_model_path):\n",
                "    shutil.copy2(source_model_path, destination_model_path)\n",
                "    print(f\"✅ Model copied successfully!\")\n",
                "    print(f\"   Source: {source_model_path}\")\n",
                "    print(f\"   Destination: {destination_model_path}\")\n",
                "    \n",
                "    # Check file size\n",
                "    model_size_mb = os.path.getsize(destination_model_path) / (1024*1024)\n",
                "    print(f\"   Model size: {model_size_mb:.2f} MB\")\n",
                "    \n",
                "    if os.path.exists(CLASS_NAMES_PATH):\n",
                "        class_names_dest = os.path.join(SAVED_MODELS_DIR, 'class_names.json')\n",
                "        shutil.copy2(CLASS_NAMES_PATH, class_names_dest)\n",
                "        print(f\"✅ Class names copied to: {class_names_dest}\")\n",
                "else:\n",
                "    print(f\"❌ Best model not found at: {source_model_path}\")\n",
                "    print(\"Available files in weights directory:\")\n",
                "    weights_dir = os.path.join(MODELS_DIR, 'sign_language_yolo', 'weights')\n",
                "    if os.path.exists(weights_dir):\n",
                "        for file in os.listdir(weights_dir):\n",
                "            print(f\"   - {file}\")\n",
                "\n",
                "print(f\"\\n📁 Saved models directory: {SAVED_MODELS_DIR}\")"
            ]
        }
    ],
    "metadata": {
        "kernelspec": {
            "display_name": "venv",
            "language": "python",
            "name": "python3"
        },
        "language_info": {
            "codemirror_mode": {
                "name": "ipython",
                "version": 3
            },
            "file_extension": ".py",
            "mimetype": "text/x-python",
            "name": "python",
            "nbconvert_exporter": "python",
            "pygments_lexer": "ipython3",
            "version": "3.12.8"
        }
    },
    "nbformat": 4,
    "nbformat_minor": 5
}
