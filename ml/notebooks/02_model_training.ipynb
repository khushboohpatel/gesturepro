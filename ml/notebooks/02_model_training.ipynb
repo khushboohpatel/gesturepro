{
    "cells": [
        {
            "cell_type": "markdown",
            "id": "38bd942c",
            "metadata": {},
            "source": [
                "# Model Training for Sign Language Detection\n",
                "\n",
                "This notebook trains the YOLO model."
            ]
        },
        {
            "cell_type": "code",
            "execution_count": null,
            "id": "ee025615",
            "metadata": {},
            "outputs": [],
            "source": [
                "import sys\n",
                "import os\n",
                "sys.path.append('../')\n",
                "\n",
                "from src.models.yolo_detector import YOLOSignDetector"
            ]
        },
        {
            "cell_type": "code",
            "execution_count": null,
            "id": "657d79a6",
            "metadata": {},
            "outputs": [],
            "source": [
                "# Set up paths\n",
                "BASE_DIR = os.path.abspath('../')\n",
                "MODELS_DIR = os.path.join(BASE_DIR, 'data', 'models')\n",
                "YOLO_DIR = os.path.join(MODELS_DIR, 'yolo_dataset')\n",
                "DATA_YAML = os.path.join(YOLO_DIR, 'data.yaml')\n",
                "CLASS_NAMES_PATH = os.path.join(MODELS_DIR, 'class_names.json')\n",
                "\n",
                "print(f\"Data YAML: {DATA_YAML}\")\n",
                "print(f\"Data YAML exists: {os.path.exists(DATA_YAML)}\")"
            ]
        },
        {
            "cell_type": "code",
            "execution_count": null,
            "id": "e2cb03a7",
            "metadata": {},
            "outputs": [],
            "source": [
                "# Initialize and train model\n",
                "detector = YOLOSignDetector()\n",
                "\n",
                "# Train the model\n",
                "print(\"Starting YOLO training...\")\n",
                "results = detector.train(\n",
                "    data_yaml_path=DATA_YAML,\n",
                "    epochs=50,\n",
                "    img_size=640,\n",
                "    project=MODELS_DIR,\n",
                "    name='sign_language_yolo'\n",
                ")\n",
                "\n",
                "print(\"Training completed!\")"
            ]
        },
        {
            "cell_type": "code",
            "execution_count": null,
            "id": "4004f98b",
            "metadata": {},
            "outputs": [],
            "source": [
                "# Load trained model and class names\n",
                "best_model_path = os.path.join(MODELS_DIR, 'sign_language_yolo', 'weights', 'best.pt')\n",
                "detector.load_model(best_model_path, CLASS_NAMES_PATH)\n",
                "\n",
                "# Evaluate model\n",
                "metrics = detector.evaluate(DATA_YAML)\n",
                "print(f\"Evaluation metrics: {metrics}\")\n",
                "\n",
                "# Save model\n",
                "detector.save_model(MODELS_DIR)\n",
                "print('Model training and evaluation complete!')"
            ]
        }
    ],
    "metadata": {
        "kernelspec": {
            "display_name": "venv",
            "language": "python",
            "name": "python3"
        },
        "language_info": {
            "codemirror_mode": {
                "name": "ipython",
                "version": 3
            },
            "file_extension": ".py",
            "mimetype": "text/x-python",
            "name": "python",
            "nbconvert_exporter": "python",
            "pygments_lexer": "ipython3",
            "version": "3.12.8"
        }
    },
    "nbformat": 4,
    "nbformat_minor": 5
}
